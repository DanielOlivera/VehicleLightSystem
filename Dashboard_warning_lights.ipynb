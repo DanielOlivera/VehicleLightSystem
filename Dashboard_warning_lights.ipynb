{
  "nbformat": 4,
  "nbformat_minor": 0,
  "metadata": {
    "colab": {
      "provenance": [],
      "authorship_tag": "ABX9TyMatDVXMNdtO1tBGaqY7ny8",
      "include_colab_link": true
    },
    "kernelspec": {
      "name": "python3",
      "display_name": "Python 3"
    },
    "language_info": {
      "name": "python"
    }
  },
  "cells": [
    {
      "cell_type": "markdown",
      "metadata": {
        "id": "view-in-github",
        "colab_type": "text"
      },
      "source": [
        "<a href=\"https://colab.research.google.com/github/DanielOlivera/VehicleLightSystem/blob/main/Dashboard_warning_lights.ipynb\" target=\"_parent\"><img src=\"https://colab.research.google.com/assets/colab-badge.svg\" alt=\"Open In Colab\"/></a>"
      ]
    },
    {
      "cell_type": "code",
      "execution_count": 1,
      "metadata": {
        "id": "rR9z7bO8ewGX"
      },
      "outputs": [],
      "source": [
        "from google.colab import drive\n",
        "import os\n",
        "import cv2\n",
        "import numpy as np\n",
        "import matplotlib.pyplot as plt\n",
        "import matplotlib.image as mpimg"
      ]
    },
    {
      "cell_type": "code",
      "source": [
        "drive.mount('/content/drive')"
      ],
      "metadata": {
        "colab": {
          "base_uri": "https://localhost:8080/"
        },
        "id": "sClDn9puf68C",
        "outputId": "187b6d4a-c2fc-46d1-9469-f049f161b391"
      },
      "execution_count": 2,
      "outputs": [
        {
          "output_type": "stream",
          "name": "stdout",
          "text": [
            "Mounted at /content/drive\n"
          ]
        }
      ]
    },
    {
      "cell_type": "code",
      "source": [
        "image_directory  = '/content/drive/My Drive/_data/_DWL'"
      ],
      "metadata": {
        "id": "VPljZhR6g1us"
      },
      "execution_count": 3,
      "outputs": []
    },
    {
      "cell_type": "code",
      "source": [
        "'''# Visualizar cada imagen en la carpeta\n",
        "for image_file in image_files:\n",
        "    image_path = os.path.join(image_folder_path, image_file)\n",
        "    try:\n",
        "        # Leer la imagen en su formato original\n",
        "        img = mpimg.imread(image_path)\n",
        "\n",
        "        # Mostrar la imagen\n",
        "        plt.imshow(img, cmap='gray')\n",
        "        plt.axis('off')  # No mostrar los ejes\n",
        "        plt.show()\n",
        "    except Exception as e:\n",
        "        print(f\"Error processing {image_file}: {e}\")'''"
      ],
      "metadata": {
        "colab": {
          "base_uri": "https://localhost:8080/",
          "height": 122
        },
        "id": "VgRXMrOy1_ia",
        "outputId": "cfa82fd5-8f3a-4a45-94d8-650f2da2388b"
      },
      "execution_count": null,
      "outputs": [
        {
          "output_type": "execute_result",
          "data": {
            "text/plain": [
              "'# Visualizar cada imagen en la carpeta\\nfor image_file in image_files:\\n    image_path = os.path.join(image_folder_path, image_file)\\n    try:\\n        # Leer la imagen en su formato original\\n        img = mpimg.imread(image_path)\\n\\n        # Mostrar la imagen\\n        plt.imshow(img, cmap=\\'gray\\')\\n        plt.axis(\\'off\\')  # No mostrar los ejes\\n        plt.show()\\n    except Exception as e:\\n        print(f\"Error processing {image_file}: {e}\")'"
            ],
            "application/vnd.google.colaboratory.intrinsic+json": {
              "type": "string"
            }
          },
          "metadata": {},
          "execution_count": 4
        }
      ]
    },
    {
      "cell_type": "code",
      "source": [
        "'''image_file = 'DD.png'\n",
        "\n",
        "# Ruta completa a la imagen\n",
        "\n",
        "image_path = os.path.join(image_folder_path, image_file)\n",
        "# Leer la imagen\n",
        "img = mpimg.imread(image_path)\n",
        "\n",
        "# Invertir la imagen horizontalmente\n",
        "img_inverted = np.fliplr(img)\n",
        "\n",
        "# Convertir la imagen invertida a uint8 si no lo es\n",
        "if img_inverted.dtype != np.uint8:\n",
        "    img_inverted = (img_inverted * 255).astype(np.uint8)\n",
        "\n",
        "# Mostrar la imagen original\n",
        "plt.imshow(img, cmap='gray')\n",
        "plt.title('Original Image')\n",
        "plt.axis('off')\n",
        "plt.show()\n",
        "\n",
        "# Mostrar la imagen invertida\n",
        "plt.imshow(img_inverted, cmap='gray')\n",
        "plt.title('Inverted Image')\n",
        "plt.axis('off')\n",
        "plt.show()\n",
        "\n",
        "# Guardar la imagen invertida\n",
        "import imageio\n",
        "inverted_image_path = os.path.join(image_folder_path, 'DD_inverted.png')\n",
        "imageio.imwrite(inverted_image_path, img_inverted)\n",
        "\n",
        "print(f\"La imagen invertida ha sido guardada en: {inverted_image_path}\")\n",
        "\n",
        "# Listar las imágenes en la carpeta\n",
        "image = [f for f in os.listdir(image_folder_path) if f.endswith('.png')]\n",
        "print(image)'''"
      ],
      "metadata": {
        "colab": {
          "base_uri": "https://localhost:8080/",
          "height": 244
        },
        "id": "7ilfstmJ3Hgz",
        "outputId": "099f18f4-a4ec-46ae-c02c-456e8e6253f4"
      },
      "execution_count": null,
      "outputs": [
        {
          "output_type": "execute_result",
          "data": {
            "text/plain": [
              "'image_file = \\'DD.png\\'\\n\\n# Ruta completa a la imagen\\n\\nimage_path = os.path.join(image_folder_path, image_file)\\n# Leer la imagen\\nimg = mpimg.imread(image_path)\\n\\n# Invertir la imagen horizontalmente\\nimg_inverted = np.fliplr(img)\\n\\n# Convertir la imagen invertida a uint8 si no lo es\\nif img_inverted.dtype != np.uint8:\\n    img_inverted = (img_inverted * 255).astype(np.uint8)\\n\\n# Mostrar la imagen original\\nplt.imshow(img, cmap=\\'gray\\')\\nplt.title(\\'Original Image\\')\\nplt.axis(\\'off\\')\\nplt.show()\\n\\n# Mostrar la imagen invertida\\nplt.imshow(img_inverted, cmap=\\'gray\\')\\nplt.title(\\'Inverted Image\\')\\nplt.axis(\\'off\\')\\nplt.show()\\n\\n# Guardar la imagen invertida\\nimport imageio\\ninverted_image_path = os.path.join(image_folder_path, \\'DD_inverted.png\\')\\nimageio.imwrite(inverted_image_path, img_inverted)\\n\\nprint(f\"La imagen invertida ha sido guardada en: {inverted_image_path}\")\\n\\n# Listar las imágenes en la carpeta\\nimage = [f for f in os.listdir(image_folder_path) if f.endswith(\\'.png\\')]\\nprint(image)'"
            ],
            "application/vnd.google.colaboratory.intrinsic+json": {
              "type": "string"
            }
          },
          "metadata": {},
          "execution_count": 5
        }
      ]
    },
    {
      "cell_type": "code",
      "source": [
        "# Listar todas las imágenes en el directorio\n",
        "image_files = [f for f in os.listdir(image_directory) if f.endswith('.png')]\n",
        "print(image_files)"
      ],
      "metadata": {
        "colab": {
          "base_uri": "https://localhost:8080/"
        },
        "id": "39YcLkHc19LQ",
        "outputId": "f20505b5-c276-48de-f357-f10d52a7814d"
      },
      "execution_count": 4,
      "outputs": [
        {
          "output_type": "stream",
          "name": "stdout",
          "text": [
            "['DD.png', 'DD_inverted.png', 'FL.png', 'HB.png', 'L.png', 'FogL.png', 'HL.png']\n"
          ]
        }
      ]
    },
    {
      "cell_type": "code",
      "source": [
        "# Cargar la primera imagen usando OpenCV y convertirla a un array de numpy\n",
        "first_image_path = os.path.join(image_directory, image_files[0])\n",
        "DD = mpimg.imread(first_image_path)\n",
        "\n",
        "# Mostrar la forma de la imagen\n",
        "print(DD.shape)\n",
        "type(DD)"
      ],
      "metadata": {
        "colab": {
          "base_uri": "https://localhost:8080/"
        },
        "id": "gzPdMva_1_xe",
        "outputId": "b00fd706-d672-441f-c93a-14f9fe9983ba"
      },
      "execution_count": null,
      "outputs": [
        {
          "output_type": "stream",
          "name": "stdout",
          "text": [
            "(64, 64, 4)\n"
          ]
        },
        {
          "output_type": "execute_result",
          "data": {
            "text/plain": [
              "numpy.ndarray"
            ]
          },
          "metadata": {},
          "execution_count": 7
        }
      ]
    },
    {
      "cell_type": "code",
      "source": [
        "# Mostrar la primera imagen cargada\n",
        "plt.imshow(DD)\n",
        "plt.axis('off')\n",
        "plt.show()"
      ],
      "metadata": {
        "colab": {
          "base_uri": "https://localhost:8080/",
          "height": 406
        },
        "id": "m7lePjBM2DaC",
        "outputId": "a21c6464-10ad-4460-97d7-cda0ff0ade5c"
      },
      "execution_count": null,
      "outputs": [
        {
          "output_type": "display_data",
          "data": {
            "text/plain": [
              "<Figure size 640x480 with 1 Axes>"
            ],
            "image/png": "[encoded data removed]"
          },
          "metadata": {}
        }
      ]
    },
    {
      "cell_type": "code",
      "source": [
        "txt_file_path = '/content/drive/My Drive/_data/_DWL/DD.txt'"
      ],
      "metadata": {
        "id": "6JRcv63Sj2D5"
      },
      "execution_count": null,
      "outputs": []
    },
    {
      "cell_type": "code",
      "source": [
        "# Guardar las primeras 5 filas en un archivo de texto\n",
        "first_5_rows = DD[:5]\n",
        "\n",
        "# Guardar las primeras 5 filas en un archivo de texto\n",
        "with open(txt_file_path, 'w') as f:\n",
        "    for row in first_5_rows:\n",
        "        np.savetxt(f, row, fmt='%d', delimiter=',', newline=' ')\n",
        "        f.write('\\n')\n",
        "\n",
        "print(f\"Primeras 5 filas guardadas en {txt_file_path}\")"
      ],
      "metadata": {
        "colab": {
          "base_uri": "https://localhost:8080/"
        },
        "id": "4C8-ijt6oa9T",
        "outputId": "fe087585-190f-49cf-f3b1-9312b25e9ce3"
      },
      "execution_count": null,
      "outputs": [
        {
          "output_type": "stream",
          "name": "stdout",
          "text": [
            "Primeras 5 filas guardadas en /content/drive/My Drive/_data/_DWL/DD.txt\n"
          ]
        }
      ]
    },
    {
      "cell_type": "code",
      "source": [
        "image_filename = 'DD.png'\n",
        "image_path = os.path.join(image_directory, image_filename)"
      ],
      "metadata": {
        "id": "puOOBYXnyCif"
      },
      "execution_count": null,
      "outputs": []
    },
    {
      "cell_type": "code",
      "source": [
        "img = cv2.imread(image_path, cv2.IMREAD_UNCHANGED)\n",
        "img_gray = 255 - img[:, :, 3]\n",
        "\n",
        "plt.imshow(img_gray, cmap='gray', vmin=0, vmax=255)\n",
        "plt.axis('off')\n",
        "plt.show()"
      ],
      "metadata": {
        "colab": {
          "base_uri": "https://localhost:8080/",
          "height": 406
        },
        "id": "wik-wLkIwwZI",
        "outputId": "8981c0eb-efbb-4c7a-c52a-260e5b4578fb"
      },
      "execution_count": null,
      "outputs": [
        {
          "output_type": "display_data",
          "data": {
            "text/plain": [
              "<Figure size 640x480 with 1 Axes>"
            ],
            "image/png": "[encoded data removed]"
          },
          "metadata": {}
        }
      ]
    },
    {
      "cell_type": "code",
      "source": [
        "img_gray"
      ],
      "metadata": {
        "colab": {
          "base_uri": "https://localhost:8080/",
          "height": 105
        },
        "id": "WRqiBJupgIOK",
        "outputId": "b6aa37b1-8346-4c11-bcef-e7a29748bc45"
      },
      "execution_count": null,
      "outputs": [
        {
          "output_type": "execute_result",
          "data": {
            "text/plain": [
              "array([[255, 255, 255, ..., 255, 255, 255],\n",
              "       [255, 255, 255, ..., 255, 255, 255],\n",
              "       [255, 255, 255, ..., 255, 255, 255],\n",
              "       ...,\n",
              "       [255, 255, 255, ..., 255, 255, 255],\n",
              "       [255, 255, 255, ..., 255, 255, 255],\n",
              "       [255, 255, 255, ..., 255, 255, 255]], dtype=uint8)"
            ],
            "text/html": [
              "<style>\n",
              "      .ndarray_repr .ndarray_raw_data {\n",
              "        display: none;\n",
              "      }\n",
              "      .ndarray_repr.show_array .ndarray_raw_data {\n",
              "        display: block;\n",
              "      }\n",
              "      .ndarray_repr.show_array .ndarray_image_preview {\n",
              "        display: none;\n",
              "      }\n",
              "      </style>\n",
              "      <div id=\"id-fdae4d0f-f990-4013-843d-b5636309e890\" class=\"ndarray_repr\"><pre>ndarray (64, 64) <button style=\"padding: 0 2px;\">show data</button></pre><img src=\"data:image/png;base64,iVBORw0KGgoAAAANSUhEUgAAAEAAAABACAAAAACPAi4CAAAA/klEQVR4nNXXyxaEIAwD0DL//8/MwlF5tCVJV9OtekFo8Ni6pdXscMMnv2xmrQocBADIBQRIBQjIBAxIBBCIBRQIBRiIBBwIBALwBQZwBQrwBA5whEPW9lrTTc5gH5EGVoEHFkEAZkEBJkECRkEDBkEEXkEFHkEGbkEHfkIBuIQKYK0K8Fne6/Dt/ofqtUW0XtyFXtzGbjWgWw24WkAHfi0kA3cLqsDTwiLwRkADhghJwBhBBZgiLADzEcADyxFCA+sR1I4/HPnz7Az24TjAmS4FeK/LAO5yEYC/3DgQbBcMRNuNAmG7gEDcbhiQtCsEZO2OAGlcACCP2xk4xPULYLQkcMWb9dcAAAAASUVORK5CYII=\" class=\"ndarray_image_preview\" /><pre class=\"ndarray_raw_data\">array([[255, 255, 255, ..., 255, 255, 255],\n",
              "       [255, 255, 255, ..., 255, 255, 255],\n",
              "       [255, 255, 255, ..., 255, 255, 255],\n",
              "       ...,\n",
              "       [255, 255, 255, ..., 255, 255, 255],\n",
              "       [255, 255, 255, ..., 255, 255, 255],\n",
              "       [255, 255, 255, ..., 255, 255, 255]], dtype=uint8)</pre></div><script>\n",
              "      (() => {\n",
              "      const titles = ['show data', 'hide data'];\n",
              "      let index = 0\n",
              "      document.querySelector('#id-fdae4d0f-f990-4013-843d-b5636309e890 button').onclick = (e) => {\n",
              "        document.querySelector('#id-fdae4d0f-f990-4013-843d-b5636309e890').classList.toggle('show_array');\n",
              "        index = (++index) % 2;\n",
              "        document.querySelector('#id-fdae4d0f-f990-4013-843d-b5636309e890 button').textContent = titles[index];\n",
              "        e.preventDefault();\n",
              "        e.stopPropagation();\n",
              "      }\n",
              "      })();\n",
              "    </script>"
            ]
          },
          "metadata": {},
          "execution_count": 14
        }
      ]
    },
    {
      "cell_type": "code",
      "source": [
        "img_gray_norm = img_gray/255.0\n",
        "img_gray_norm"
      ],
      "metadata": {
        "colab": {
          "base_uri": "https://localhost:8080/"
        },
        "id": "YwJcykuCyPXR",
        "outputId": "c88709c7-279f-4223-f144-239a5fc6b145"
      },
      "execution_count": null,
      "outputs": [
        {
          "output_type": "execute_result",
          "data": {
            "text/plain": [
              "array([[1., 1., 1., ..., 1., 1., 1.],\n",
              "       [1., 1., 1., ..., 1., 1., 1.],\n",
              "       [1., 1., 1., ..., 1., 1., 1.],\n",
              "       ...,\n",
              "       [1., 1., 1., ..., 1., 1., 1.],\n",
              "       [1., 1., 1., ..., 1., 1., 1.],\n",
              "       [1., 1., 1., ..., 1., 1., 1.]])"
            ]
          },
          "metadata": {},
          "execution_count": 15
        }
      ]
    },
    {
      "cell_type": "code",
      "source": [
        "# Mostrar la imagen original y la imagen normalizada\n",
        "fig, axes = plt.subplots(1, 2, figsize=(10, 5))\n",
        "axes[0].imshow(img_gray, cmap='gray', vmin=0, vmax=255)\n",
        "axes[0].set_title('Imagen Original')\n",
        "axes[0].axis('off')\n",
        "\n",
        "axes[1].imshow(img_gray_norm, cmap='gray', vmin=0, vmax=1)\n",
        "axes[1].set_title('Imagen Normalizada')\n",
        "axes[1].axis('off')\n",
        "\n",
        "plt.show()"
      ],
      "metadata": {
        "colab": {
          "base_uri": "https://localhost:8080/",
          "height": 337
        },
        "id": "ObY1Csj_f9js",
        "outputId": "b43c2e07-d693-41e6-a499-856bbd254d5a"
      },
      "execution_count": null,
      "outputs": [
        {
          "output_type": "display_data",
          "data": {
            "text/plain": [
              "<Figure size 1000x500 with 2 Axes>"
            ],
            "image/png": "[encoded data removed]"
          },
          "metadata": {}
        }
      ]
    },
    {
      "cell_type": "code",
      "source": [
        "DDcpp = img_gray_norm\n",
        "DDcpp = abs(DDcpp-1)\n",
        "plt.imshow(DDcpp, cmap='gray', vmin=0, vmax=1)\n",
        "plt.title('Imagen Normalizada')\n",
        "plt.axis('off')\n",
        "plt.show()"
      ],
      "metadata": {
        "colab": {
          "base_uri": "https://localhost:8080/",
          "height": 428
        },
        "id": "OLUYNevJgMXF",
        "outputId": "eaec98f1-db97-4c74-d9b1-e57f12f21bb4"
      },
      "execution_count": null,
      "outputs": [
        {
          "output_type": "display_data",
          "data": {
            "text/plain": [
              "<Figure size 640x480 with 1 Axes>"
            ],
            "image/png": "[encoded data removed]"
          },
          "metadata": {}
        }
      ]
    },
    {
      "cell_type": "code",
      "source": [
        "txt_file_path = '/content/drive/My Drive/_data/_DWL/DDcpp.txt'\n",
        "np.savetxt(txt_file_path, DDcpp, fmt='%d')\n",
        "print(f\"Matriz guardada en {txt_file_path}\")"
      ],
      "metadata": {
        "colab": {
          "base_uri": "https://localhost:8080/"
        },
        "id": "Hd-DPZMFjDkr",
        "outputId": "14680bfa-cf0f-425a-d724-3c191eeb8904"
      },
      "execution_count": null,
      "outputs": [
        {
          "output_type": "stream",
          "name": "stdout",
          "text": [
            "Matriz guardada en /content/drive/My Drive/_data/_DWL/DDcpp.txt\n"
          ]
        }
      ]
    },
    {
      "cell_type": "code",
      "source": [
        "# Ruta del archivo de salida\n",
        "txt_file_path = '/content/drive/My Drive/_data/_DWL/DDcpp.txt'\n",
        "\n",
        "# Formatear la matriz como un arreglo C\n",
        "header = \"const uint8_t DD[{}*{}] = {{\\n\".format(DDcpp.shape[0], DDcpp.shape[1])\n",
        "footer = \"};\\n\"\n",
        "\n",
        "# Convertir la matriz a una lista de cadenas, una por fila\n",
        "lines = []\n",
        "for row in DDcpp:\n",
        "    lines.append(\"    \" + \", \".join(map(lambda x: str(int(x)), row)) + \",\")\n",
        "\n",
        "# Juntar todo en una sola cadena\n",
        "content = header + \"\\n\".join(lines) + \"\\n\" + footer\n",
        "\n",
        "# Guardar el contenido en un archivo de texto\n",
        "with open(txt_file_path, 'w') as f:\n",
        "    f.write(content)\n",
        "\n",
        "print(f\"Matriz guardada en formato C en {txt_file_path}\")"
      ],
      "metadata": {
        "colab": {
          "base_uri": "https://localhost:8080/"
        },
        "id": "qAlBDFL1k4rc",
        "outputId": "fa6e00fe-45e5-4bdc-9d3e-1c283ca61077"
      },
      "execution_count": null,
      "outputs": [
        {
          "output_type": "stream",
          "name": "stdout",
          "text": [
            "Matriz guardada en formato C en /content/drive/My Drive/_data/_DWL/DDcpp.txt\n"
          ]
        }
      ]
    },
    {
      "cell_type": "markdown",
      "source": [
        "# Procesando imagenes"
      ],
      "metadata": {
        "id": "wCXx2ECRlzpz"
      }
    },
    {
      "cell_type": "code",
      "source": [
        "# Lista de archivos de imagen\n",
        "image_files = ['DD.png', 'DD_inverted.png', 'FL.png', 'HB.png', 'L.png', 'FogL.png', 'HL.png']\n",
        "\n",
        "# Diccionario para almacenar las imágenes\n",
        "images = {}"
      ],
      "metadata": {
        "id": "Mvjr-Qu4l7at"
      },
      "execution_count": 4,
      "outputs": []
    },
    {
      "cell_type": "code",
      "source": [
        "# Cargar cada imagen y convertirla a un array de numpy\n",
        "for image_file in image_files:\n",
        "    image_path = os.path.join(image_directory, image_file)\n",
        "    image_array = mpimg.imread(image_path)\n",
        "    images[image_file] = image_array\n",
        "\n",
        "# Mostrar la forma de cada imagen\n",
        "for image_name, image_array in images.items():\n",
        "    print(f\"{image_name} shape: {image_array.shape}\")\n",
        "    print(f\"{image_name} type: {type(image_array)}\")"
      ],
      "metadata": {
        "colab": {
          "base_uri": "https://localhost:8080/"
        },
        "id": "w0tnpvZql8XZ",
        "outputId": "8525b0c4-1734-42bb-f667-a89edfa947e8"
      },
      "execution_count": 5,
      "outputs": [
        {
          "output_type": "stream",
          "name": "stdout",
          "text": [
            "DD.png shape: (64, 64, 4)\n",
            "DD.png type: <class 'numpy.ndarray'>\n",
            "DD_inverted.png shape: (64, 64, 4)\n",
            "DD_inverted.png type: <class 'numpy.ndarray'>\n",
            "FL.png shape: (64, 64, 4)\n",
            "FL.png type: <class 'numpy.ndarray'>\n",
            "HB.png shape: (64, 64, 4)\n",
            "HB.png type: <class 'numpy.ndarray'>\n",
            "L.png shape: (64, 64, 4)\n",
            "L.png type: <class 'numpy.ndarray'>\n",
            "FogL.png shape: (64, 64, 4)\n",
            "FogL.png type: <class 'numpy.ndarray'>\n",
            "HL.png shape: (64, 64, 4)\n",
            "HL.png type: <class 'numpy.ndarray'>\n"
          ]
        }
      ]
    },
    {
      "cell_type": "code",
      "source": [
        "'''# Dibujar cada imagen\n",
        "for image_name, image_array in images.items():\n",
        "    plt.imshow(image_array, cmap='gray')\n",
        "    plt.axis('off')\n",
        "    plt.title(image_name)\n",
        "    plt.show()'''\n",
        "\n",
        "# Diccionario para almacenar las variables de imágenes\n",
        "image_vars = {}\n",
        "\n",
        "# Procesar cada imagen y crear una variable para cada una\n",
        "for image_filename in image_files:\n",
        "    image_path = os.path.join(image_directory, image_filename)\n",
        "    img = cv2.imread(image_path, cv2.IMREAD_UNCHANGED)\n",
        "    if img is not None:\n",
        "        img_gray = 255 - img[:, :, 3]\n",
        "        var_name = f'img_gray_{os.path.splitext(image_filename)[0]}'\n",
        "        globals()[var_name] = img_gray\n",
        "        image_vars[var_name] = img_gray\n",
        "\n",
        "# Mostrar cada imagen procesada\n",
        "for var_name, img_gray in image_vars.items():\n",
        "    plt.imshow(img_gray, cmap='gray', vmin=0, vmax=255)\n",
        "    plt.axis('off')\n",
        "    plt.title(var_name)\n",
        "    plt.show()"
      ],
      "metadata": {
        "colab": {
          "base_uri": "https://localhost:8080/",
          "height": 1000
        },
        "collapsed": true,
        "id": "3HpQc612mCXk",
        "outputId": "7666e271-23df-433c-b821-83bd80c3f1ce"
      },
      "execution_count": 8,
      "outputs": [
        {
          "output_type": "display_data",
          "data": {
            "text/plain": [
              "<Figure size 640x480 with 1 Axes>"
            ],
            "image/png": "[encoded data removed]"
          },
          "metadata": {}
        },
        {
          "output_type": "display_data",
          "data": {
            "text/plain": [
              "<Figure size 640x480 with 1 Axes>"
            ],
            "image/png": "[encoded data removed]"
          },
          "metadata": {}
        },
        {
          "output_type": "display_data",
          "data": {
            "text/plain": [
              "<Figure size 640x480 with 1 Axes>"
            ],
            "image/png": "[encoded data removed]"
          },
          "metadata": {}
        },
        {
          "output_type": "display_data",
          "data": {
            "text/plain": [
              "<Figure size 640x480 with 1 Axes>"
            ],
            "image/png": "[encoded data removed]"
          },
          "metadata": {}
        },
        {
          "output_type": "display_data",
          "data": {
            "text/plain": [
              "<Figure size 640x480 with 1 Axes>"
            ],
            "image/png": "[encoded data removed]"
          },
          "metadata": {}
        },
        {
          "output_type": "display_data",
          "data": {
            "text/plain": [
              "<Figure size 640x480 with 1 Axes>"
            ],
            "image/png": "[encoded data removed]"
          },
          "metadata": {}
        },
        {
          "output_type": "display_data",
          "data": {
            "text/plain": [
              "<Figure size 640x480 with 1 Axes>"
            ],
            "image/png": "[encoded data removed]"
          },
          "metadata": {}
        }
      ]
    },
    {
      "cell_type": "code",
      "source": [
        "image_vars['img_gray_DD']"
      ],
      "metadata": {
        "colab": {
          "base_uri": "https://localhost:8080/",
          "height": 105
        },
        "id": "PEasAqTUcnp0",
        "outputId": "08ea8cb8-ab32-4645-c9c2-f92c3ccf09a8"
      },
      "execution_count": 16,
      "outputs": [
        {
          "output_type": "execute_result",
          "data": {
            "text/plain": [
              "array([[255, 255, 255, ..., 255, 255, 255],\n",
              "       [255, 255, 255, ..., 255, 255, 255],\n",
              "       [255, 255, 255, ..., 255, 255, 255],\n",
              "       ...,\n",
              "       [255, 255, 255, ..., 255, 255, 255],\n",
              "       [255, 255, 255, ..., 255, 255, 255],\n",
              "       [255, 255, 255, ..., 255, 255, 255]], dtype=uint8)"
            ],
            "text/html": [
              "<style>\n",
              "      .ndarray_repr .ndarray_raw_data {\n",
              "        display: none;\n",
              "      }\n",
              "      .ndarray_repr.show_array .ndarray_raw_data {\n",
              "        display: block;\n",
              "      }\n",
              "      .ndarray_repr.show_array .ndarray_image_preview {\n",
              "        display: none;\n",
              "      }\n",
              "      </style>\n",
              "      <div id=\"id-e2a97c37-2168-4ae7-87ce-973bc0c316ca\" class=\"ndarray_repr\"><pre>ndarray (64, 64) <button style=\"padding: 0 2px;\">show data</button></pre><img src=\"data:image/png;base64,iVBORw0KGgoAAAANSUhEUgAAAEAAAABACAAAAACPAi4CAAAA/klEQVR4nNXXyxaEIAwD0DL//8/MwlF5tCVJV9OtekFo8Ni6pdXscMMnv2xmrQocBADIBQRIBQjIBAxIBBCIBRQIBRiIBBwIBALwBQZwBQrwBA5whEPW9lrTTc5gH5EGVoEHFkEAZkEBJkECRkEDBkEEXkEFHkEGbkEHfkIBuIQKYK0K8Fne6/Dt/ofqtUW0XtyFXtzGbjWgWw24WkAHfi0kA3cLqsDTwiLwRkADhghJwBhBBZgiLADzEcADyxFCA+sR1I4/HPnz7Az24TjAmS4FeK/LAO5yEYC/3DgQbBcMRNuNAmG7gEDcbhiQtCsEZO2OAGlcACCP2xk4xPULYLQkcMWb9dcAAAAASUVORK5CYII=\" class=\"ndarray_image_preview\" /><pre class=\"ndarray_raw_data\">array([[255, 255, 255, ..., 255, 255, 255],\n",
              "       [255, 255, 255, ..., 255, 255, 255],\n",
              "       [255, 255, 255, ..., 255, 255, 255],\n",
              "       ...,\n",
              "       [255, 255, 255, ..., 255, 255, 255],\n",
              "       [255, 255, 255, ..., 255, 255, 255],\n",
              "       [255, 255, 255, ..., 255, 255, 255]], dtype=uint8)</pre></div><script>\n",
              "      (() => {\n",
              "      const titles = ['show data', 'hide data'];\n",
              "      let index = 0\n",
              "      document.querySelector('#id-e2a97c37-2168-4ae7-87ce-973bc0c316ca button').onclick = (e) => {\n",
              "        document.querySelector('#id-e2a97c37-2168-4ae7-87ce-973bc0c316ca').classList.toggle('show_array');\n",
              "        index = (++index) % 2;\n",
              "        document.querySelector('#id-e2a97c37-2168-4ae7-87ce-973bc0c316ca button').textContent = titles[index];\n",
              "        e.preventDefault();\n",
              "        e.stopPropagation();\n",
              "      }\n",
              "      })();\n",
              "    </script>"
            ]
          },
          "metadata": {},
          "execution_count": 16
        }
      ]
    },
    {
      "cell_type": "code",
      "source": [
        "# DD\n",
        "img_gray_DD = 255 - cv2.imread(os.path.join(image_directory, 'DD.png'), cv2.IMREAD_UNCHANGED)[:, :, 3]\n",
        "img_gray_norm_DD = img_gray_DD / 255.0\n",
        "DDcpp = abs(img_gray_norm_DD - 1)\n",
        "plt.imshow(DDcpp, cmap='gray', vmin=0, vmax=1)\n",
        "plt.title('Imagen Normalizada - DD')\n",
        "plt.axis('off')\n",
        "plt.show()"
      ],
      "metadata": {
        "colab": {
          "base_uri": "https://localhost:8080/",
          "height": 428
        },
        "id": "psPqCRS1h19V",
        "outputId": "6a83c7a0-12eb-4c3d-fd62-8e3d8e31d9a1"
      },
      "execution_count": 23,
      "outputs": [
        {
          "output_type": "display_data",
          "data": {
            "text/plain": [
              "<Figure size 640x480 with 1 Axes>"
            ],
            "image/png": "[encoded data removed]"
          },
          "metadata": {}
        }
      ]
    },
    {
      "cell_type": "code",
      "source": [
        "image_vars['img_gray_DD_inverted']"
      ],
      "metadata": {
        "colab": {
          "base_uri": "https://localhost:8080/",
          "height": 105
        },
        "id": "i2XoyAraeRjO",
        "outputId": "67877ee0-46e7-40cc-8e63-e7c28407a474"
      },
      "execution_count": 17,
      "outputs": [
        {
          "output_type": "execute_result",
          "data": {
            "text/plain": [
              "array([[255, 255, 255, ..., 255, 255, 255],\n",
              "       [255, 255, 255, ..., 255, 255, 255],\n",
              "       [255, 255, 255, ..., 255, 255, 255],\n",
              "       ...,\n",
              "       [255, 255, 255, ..., 255, 255, 255],\n",
              "       [255, 255, 255, ..., 255, 255, 255],\n",
              "       [255, 255, 255, ..., 255, 255, 255]], dtype=uint8)"
            ],
            "text/html": [
              "<style>\n",
              "      .ndarray_repr .ndarray_raw_data {\n",
              "        display: none;\n",
              "      }\n",
              "      .ndarray_repr.show_array .ndarray_raw_data {\n",
              "        display: block;\n",
              "      }\n",
              "      .ndarray_repr.show_array .ndarray_image_preview {\n",
              "        display: none;\n",
              "      }\n",
              "      </style>\n",
              "      <div id=\"id-27274cd7-9759-4748-9465-5c556d9ad9c0\" class=\"ndarray_repr\"><pre>ndarray (64, 64) <button style=\"padding: 0 2px;\">show data</button></pre><img src=\"data:image/png;base64,iVBORw0KGgoAAAANSUhEUgAAAEAAAABACAAAAACPAi4CAAABAUlEQVR4nNXXOxaDMAxEUeH97zkpCGAbfWZGVajz7iEFtnR8LH0OK34wqr56cqDucwDoUwDpMwDqEwDrYwDsQwDtIwDuAwDvfYDoXYDpPYDqHYDr7di/VrJ/vQHb7wDdbwDfr4DQL4DSz4DUT4DWP4DY34DaX4Dc/wC9P4FGb6PZ22j2Vl2+//B0/8LoCqP7DsOawrCmcH4LDeH3NerCdR7Iwn0iqcJzJorCdCprwnwvSMJyMynCejcKwnY788I+H9DCa0J5HZH0wkG+gzOlcYI3J1KCO6kygj8rE0IwreNCtC/AQrixoEK8M4FCsrVhQrY3QkK6uSJCvjsDQrG918IXyWUkcZvmDbsAAAAASUVORK5CYII=\" class=\"ndarray_image_preview\" /><pre class=\"ndarray_raw_data\">array([[255, 255, 255, ..., 255, 255, 255],\n",
              "       [255, 255, 255, ..., 255, 255, 255],\n",
              "       [255, 255, 255, ..., 255, 255, 255],\n",
              "       ...,\n",
              "       [255, 255, 255, ..., 255, 255, 255],\n",
              "       [255, 255, 255, ..., 255, 255, 255],\n",
              "       [255, 255, 255, ..., 255, 255, 255]], dtype=uint8)</pre></div><script>\n",
              "      (() => {\n",
              "      const titles = ['show data', 'hide data'];\n",
              "      let index = 0\n",
              "      document.querySelector('#id-27274cd7-9759-4748-9465-5c556d9ad9c0 button').onclick = (e) => {\n",
              "        document.querySelector('#id-27274cd7-9759-4748-9465-5c556d9ad9c0').classList.toggle('show_array');\n",
              "        index = (++index) % 2;\n",
              "        document.querySelector('#id-27274cd7-9759-4748-9465-5c556d9ad9c0 button').textContent = titles[index];\n",
              "        e.preventDefault();\n",
              "        e.stopPropagation();\n",
              "      }\n",
              "      })();\n",
              "    </script>"
            ]
          },
          "metadata": {},
          "execution_count": 17
        }
      ]
    },
    {
      "cell_type": "code",
      "source": [
        "# DD_inverted\n",
        "img_gray_DD_inverted = 255 - cv2.imread(os.path.join(image_directory, 'DD_inverted.png'), cv2.IMREAD_UNCHANGED)[:, :, 3]\n",
        "img_gray_norm_DD_inverted = img_gray_DD_inverted / 255.0\n",
        "DDcpp_inverted = abs(img_gray_norm_DD_inverted - 1)\n",
        "plt.imshow(DDcpp_inverted, cmap='gray', vmin=0, vmax=1)\n",
        "plt.title('Imagen Normalizada - DD_inverted')\n",
        "plt.axis('off')\n",
        "plt.show()"
      ],
      "metadata": {
        "colab": {
          "base_uri": "https://localhost:8080/",
          "height": 428
        },
        "id": "geMVR3Gsh4d2",
        "outputId": "f088936a-2e49-4212-f0fe-9d813ec45a6d"
      },
      "execution_count": 24,
      "outputs": [
        {
          "output_type": "display_data",
          "data": {
            "text/plain": [
              "<Figure size 640x480 with 1 Axes>"
            ],
            "image/png": "[encoded data removed]"
          },
          "metadata": {}
        }
      ]
    },
    {
      "cell_type": "code",
      "source": [
        "image_vars['img_gray_FL']"
      ],
      "metadata": {
        "colab": {
          "base_uri": "https://localhost:8080/",
          "height": 105
        },
        "id": "An0C19-XeSm9",
        "outputId": "bb4f3c0e-7416-4666-a60f-1b2bfa4a9b19"
      },
      "execution_count": 18,
      "outputs": [
        {
          "output_type": "execute_result",
          "data": {
            "text/plain": [
              "array([[255, 255, 255, ..., 255, 255, 255],\n",
              "       [255, 255, 255, ..., 255, 255, 255],\n",
              "       [255, 255, 255, ..., 255, 255, 255],\n",
              "       ...,\n",
              "       [255, 255, 255, ..., 255, 255, 255],\n",
              "       [255, 255, 255, ..., 255, 255, 255],\n",
              "       [255, 255, 255, ..., 255, 255, 255]], dtype=uint8)"
            ],
            "text/html": [
              "<style>\n",
              "      .ndarray_repr .ndarray_raw_data {\n",
              "        display: none;\n",
              "      }\n",
              "      .ndarray_repr.show_array .ndarray_raw_data {\n",
              "        display: block;\n",
              "      }\n",
              "      .ndarray_repr.show_array .ndarray_image_preview {\n",
              "        display: none;\n",
              "      }\n",
              "      </style>\n",
              "      <div id=\"id-f9ff3a4e-ae74-4926-8baa-d8c1bd3db231\" class=\"ndarray_repr\"><pre>ndarray (64, 64) <button style=\"padding: 0 2px;\">show data</button></pre><img src=\"data:image/png;base64,iVBORw0KGgoAAAANSUhEUgAAAEAAAABACAAAAACPAi4CAAABCElEQVR4nO2XyRLCMAxDJU///5fFoc2eNhvMABNfWoT9ohoTAoW1sMX6DfgbABfKCcMKgQAFEEo0AKhOOPO3KFiW7NywtOUkJsmWaSNB6AIoLFx6KS15J/IONOVB8IAqIVZqLTkvbpBOAmsphX6lKgGMhv/oPeDpIZ4aFBzcEyr1YfaOII5sryG30QOyNWVfsR9swO8DjnjS+ofZ1+gdDmbOKN1fpnZswAb0AJpj2uHgmfHpR1DTQgwof4KUXKqpVhM7widbJBULqbgJgiNYLA6E8iPO+VpZ0g1cEcEBWDRcymvS+4tgSf1EUPP14aQ6ub7AxVGW/78w2wCB1EI94Jq4EN+/pTXjBftyPYpiRLisAAAAAElFTkSuQmCC\" class=\"ndarray_image_preview\" /><pre class=\"ndarray_raw_data\">array([[255, 255, 255, ..., 255, 255, 255],\n",
              "       [255, 255, 255, ..., 255, 255, 255],\n",
              "       [255, 255, 255, ..., 255, 255, 255],\n",
              "       ...,\n",
              "       [255, 255, 255, ..., 255, 255, 255],\n",
              "       [255, 255, 255, ..., 255, 255, 255],\n",
              "       [255, 255, 255, ..., 255, 255, 255]], dtype=uint8)</pre></div><script>\n",
              "      (() => {\n",
              "      const titles = ['show data', 'hide data'];\n",
              "      let index = 0\n",
              "      document.querySelector('#id-f9ff3a4e-ae74-4926-8baa-d8c1bd3db231 button').onclick = (e) => {\n",
              "        document.querySelector('#id-f9ff3a4e-ae74-4926-8baa-d8c1bd3db231').classList.toggle('show_array');\n",
              "        index = (++index) % 2;\n",
              "        document.querySelector('#id-f9ff3a4e-ae74-4926-8baa-d8c1bd3db231 button').textContent = titles[index];\n",
              "        e.preventDefault();\n",
              "        e.stopPropagation();\n",
              "      }\n",
              "      })();\n",
              "    </script>"
            ]
          },
          "metadata": {},
          "execution_count": 18
        }
      ]
    },
    {
      "cell_type": "code",
      "source": [
        "# FL\n",
        "img_gray_FL = 255 - cv2.imread(os.path.join(image_directory, 'FL.png'), cv2.IMREAD_UNCHANGED)[:, :, 3]\n",
        "img_gray_norm_FL = img_gray_FL / 255.0\n",
        "FLcpp = abs(img_gray_norm_FL - 1)\n",
        "plt.imshow(FLcpp, cmap='gray', vmin=0, vmax=1)\n",
        "plt.title('Imagen Normalizada - FL')\n",
        "plt.axis('off')\n",
        "plt.show()"
      ],
      "metadata": {
        "colab": {
          "base_uri": "https://localhost:8080/",
          "height": 428
        },
        "id": "o5Bw8yy4h698",
        "outputId": "e796deef-60fb-4f43-b0ed-d9c11ffe9f42"
      },
      "execution_count": 25,
      "outputs": [
        {
          "output_type": "display_data",
          "data": {
            "text/plain": [
              "<Figure size 640x480 with 1 Axes>"
            ],
            "image/png": "[encoded data removed]"
          },
          "metadata": {}
        }
      ]
    },
    {
      "cell_type": "code",
      "source": [
        "image_vars['img_gray_FogL']"
      ],
      "metadata": {
        "colab": {
          "base_uri": "https://localhost:8080/",
          "height": 105
        },
        "id": "9elV7Ro4eXP9",
        "outputId": "1042ada9-21b7-4ce0-def8-0139f4f65ee7"
      },
      "execution_count": 19,
      "outputs": [
        {
          "output_type": "execute_result",
          "data": {
            "text/plain": [
              "array([[255, 255, 255, ..., 255, 255, 255],\n",
              "       [255, 255, 255, ..., 255, 255, 255],\n",
              "       [255, 255, 255, ..., 255, 255, 255],\n",
              "       ...,\n",
              "       [255, 255, 255, ..., 255, 255, 255],\n",
              "       [255, 255, 255, ..., 255, 255, 255],\n",
              "       [255, 255, 255, ..., 255, 255, 255]], dtype=uint8)"
            ],
            "text/html": [
              "<style>\n",
              "      .ndarray_repr .ndarray_raw_data {\n",
              "        display: none;\n",
              "      }\n",
              "      .ndarray_repr.show_array .ndarray_raw_data {\n",
              "        display: block;\n",
              "      }\n",
              "      .ndarray_repr.show_array .ndarray_image_preview {\n",
              "        display: none;\n",
              "      }\n",
              "      </style>\n",
              "      <div id=\"id-0cb9c7fb-e2ca-496b-b6f8-caa416db6eee\" class=\"ndarray_repr\"><pre>ndarray (64, 64) <button style=\"padding: 0 2px;\">show data</button></pre><img src=\"data:image/png;base64,iVBORw0KGgoAAAANSUhEUgAAAEAAAABACAAAAACPAi4CAAABLElEQVR4nN2X2RLDIAhFA5P//2X70kTkQlicaWbKU0XuEY0LpXHsGW/q/wFwgofE76G7cMl1BkRLa+0c2oEAHQCEAIADBEQFQL324SQkwNIjwQfYevCrJnsdnulJ3ICkHggXIK3Xy8BlvYrmhn6ZxJnVk9Ea3wxq4ys7s/pl6cSx5Nb4gsZb+R/dG0mM+tadOBehBcCduGE9gPyMDbl5nNvWAKzPS2YjDi/wOo1bls5gCswrrW9VADzQv/+M+m0rAsL6oG5VwNPrnDBj1xQziIuscgo04s0cHKbNaptGfKDEEFhq8mFWfz7LrNJKBAtQWge7SssTvCqtTeDpzxNMgE/ADudtdAjoHl59YBIsp/Sx1/Gc1kxhPY0Q7k7rJpAOoTUwNABU7f0/nu8DPpCNPH8oQsOkAAAAAElFTkSuQmCC\" class=\"ndarray_image_preview\" /><pre class=\"ndarray_raw_data\">array([[255, 255, 255, ..., 255, 255, 255],\n",
              "       [255, 255, 255, ..., 255, 255, 255],\n",
              "       [255, 255, 255, ..., 255, 255, 255],\n",
              "       ...,\n",
              "       [255, 255, 255, ..., 255, 255, 255],\n",
              "       [255, 255, 255, ..., 255, 255, 255],\n",
              "       [255, 255, 255, ..., 255, 255, 255]], dtype=uint8)</pre></div><script>\n",
              "      (() => {\n",
              "      const titles = ['show data', 'hide data'];\n",
              "      let index = 0\n",
              "      document.querySelector('#id-0cb9c7fb-e2ca-496b-b6f8-caa416db6eee button').onclick = (e) => {\n",
              "        document.querySelector('#id-0cb9c7fb-e2ca-496b-b6f8-caa416db6eee').classList.toggle('show_array');\n",
              "        index = (++index) % 2;\n",
              "        document.querySelector('#id-0cb9c7fb-e2ca-496b-b6f8-caa416db6eee button').textContent = titles[index];\n",
              "        e.preventDefault();\n",
              "        e.stopPropagation();\n",
              "      }\n",
              "      })();\n",
              "    </script>"
            ]
          },
          "metadata": {},
          "execution_count": 19
        }
      ]
    },
    {
      "cell_type": "code",
      "source": [
        "# FogL\n",
        "img_gray_FogL = 255 - cv2.imread(os.path.join(image_directory, 'FogL.png'), cv2.IMREAD_UNCHANGED)[:, :, 3]\n",
        "img_gray_norm_FogL = img_gray_FogL / 255.0\n",
        "FogLcpp = abs(img_gray_norm_FogL - 1)\n",
        "plt.imshow(FogLcpp, cmap='gray', vmin=0, vmax=1)\n",
        "plt.title('Imagen Normalizada - FogL')\n",
        "plt.axis('off')\n",
        "plt.show()"
      ],
      "metadata": {
        "colab": {
          "base_uri": "https://localhost:8080/",
          "height": 428
        },
        "id": "q6BZixTOh-f9",
        "outputId": "3a557a93-77e2-4157-905e-4786eafddc4d"
      },
      "execution_count": 26,
      "outputs": [
        {
          "output_type": "display_data",
          "data": {
            "text/plain": [
              "<Figure size 640x480 with 1 Axes>"
            ],
            "image/png": "[encoded data removed]"
          },
          "metadata": {}
        }
      ]
    },
    {
      "cell_type": "code",
      "source": [
        "image_vars['img_gray_HB']"
      ],
      "metadata": {
        "colab": {
          "base_uri": "https://localhost:8080/",
          "height": 105
        },
        "id": "XgAOl75iecaP",
        "outputId": "eeb63039-fb38-4187-904f-7d93f5b71d98"
      },
      "execution_count": 20,
      "outputs": [
        {
          "output_type": "execute_result",
          "data": {
            "text/plain": [
              "array([[255, 255, 255, ..., 255, 255, 255],\n",
              "       [255, 255, 255, ..., 255, 255, 255],\n",
              "       [255, 255, 255, ..., 255, 255, 255],\n",
              "       ...,\n",
              "       [255, 255, 255, ..., 255, 255, 255],\n",
              "       [255, 255, 255, ..., 255, 255, 255],\n",
              "       [255, 255, 255, ..., 255, 255, 255]], dtype=uint8)"
            ],
            "text/html": [
              "<style>\n",
              "      .ndarray_repr .ndarray_raw_data {\n",
              "        display: none;\n",
              "      }\n",
              "      .ndarray_repr.show_array .ndarray_raw_data {\n",
              "        display: block;\n",
              "      }\n",
              "      .ndarray_repr.show_array .ndarray_image_preview {\n",
              "        display: none;\n",
              "      }\n",
              "      </style>\n",
              "      <div id=\"id-72a395a1-256d-4307-9826-4767fbcd4e1e\" class=\"ndarray_repr\"><pre>ndarray (64, 64) <button style=\"padding: 0 2px;\">show data</button></pre><img src=\"data:image/png;base64,iVBORw0KGgoAAAANSUhEUgAAAEAAAABACAAAAACPAi4CAAAA4ElEQVR4nO2XyRKEMAhEgfL/fzlzcJmQBRjaKq2p5ORCPxE6MXIhbAio/wfA1l3h6jhQ4TYDZnX2M6BV+AQN6ONdggKMoj0CV3WaxBbzVpXB7Fl2Dt82mnHzfl4ZBDpmArL6E5DWH4C8fgcAehJQTwLqaYvpDSdiz4/lby4rz6+JC/AGQP9lGo7Qopoby8oLcAvgBVYuvpkdK4O7bQntJm0ARhACCXsXAMLRxjzh9EGacDnR9kPEidMc7OT8vbLzcvVcGIZ6xVGTaRDsFlfPxi7cb04znYtWBJrL69cXB3wAYJokgfwNKHgAAAAASUVORK5CYII=\" class=\"ndarray_image_preview\" /><pre class=\"ndarray_raw_data\">array([[255, 255, 255, ..., 255, 255, 255],\n",
              "       [255, 255, 255, ..., 255, 255, 255],\n",
              "       [255, 255, 255, ..., 255, 255, 255],\n",
              "       ...,\n",
              "       [255, 255, 255, ..., 255, 255, 255],\n",
              "       [255, 255, 255, ..., 255, 255, 255],\n",
              "       [255, 255, 255, ..., 255, 255, 255]], dtype=uint8)</pre></div><script>\n",
              "      (() => {\n",
              "      const titles = ['show data', 'hide data'];\n",
              "      let index = 0\n",
              "      document.querySelector('#id-72a395a1-256d-4307-9826-4767fbcd4e1e button').onclick = (e) => {\n",
              "        document.querySelector('#id-72a395a1-256d-4307-9826-4767fbcd4e1e').classList.toggle('show_array');\n",
              "        index = (++index) % 2;\n",
              "        document.querySelector('#id-72a395a1-256d-4307-9826-4767fbcd4e1e button').textContent = titles[index];\n",
              "        e.preventDefault();\n",
              "        e.stopPropagation();\n",
              "      }\n",
              "      })();\n",
              "    </script>"
            ]
          },
          "metadata": {},
          "execution_count": 20
        }
      ]
    },
    {
      "cell_type": "code",
      "source": [
        "# HB\n",
        "img_gray_HB = 255 - cv2.imread(os.path.join(image_directory, 'HB.png'), cv2.IMREAD_UNCHANGED)[:, :, 3]\n",
        "img_gray_norm_HB = img_gray_HB / 255.0\n",
        "HBcpp = abs(img_gray_norm_HB - 1)\n",
        "plt.imshow(HBcpp, cmap='gray', vmin=0, vmax=1)\n",
        "plt.title('Imagen Normalizada - HB')\n",
        "plt.axis('off')\n",
        "plt.show()"
      ],
      "metadata": {
        "colab": {
          "base_uri": "https://localhost:8080/",
          "height": 428
        },
        "id": "UCV4TfX_iCmO",
        "outputId": "04f888fd-13d3-4dff-e71c-bb612df83db8"
      },
      "execution_count": 27,
      "outputs": [
        {
          "output_type": "display_data",
          "data": {
            "text/plain": [
              "<Figure size 640x480 with 1 Axes>"
            ],
            "image/png": "[encoded data removed]"
          },
          "metadata": {}
        }
      ]
    },
    {
      "cell_type": "code",
      "source": [
        "image_vars['img_gray_L']"
      ],
      "metadata": {
        "colab": {
          "base_uri": "https://localhost:8080/",
          "height": 105
        },
        "id": "Kfmrpr0yehdT",
        "outputId": "539fe8a8-8326-4308-95cc-b5eb4fa7a32f"
      },
      "execution_count": 21,
      "outputs": [
        {
          "output_type": "execute_result",
          "data": {
            "text/plain": [
              "array([[255, 255, 255, ..., 255, 255, 255],\n",
              "       [255, 255, 255, ..., 255, 255, 255],\n",
              "       [255, 255, 255, ..., 255, 255, 255],\n",
              "       ...,\n",
              "       [255, 255, 255, ..., 255, 255, 255],\n",
              "       [255, 255, 255, ..., 255, 255, 255],\n",
              "       [255, 255, 255, ..., 255, 255, 255]], dtype=uint8)"
            ],
            "text/html": [
              "<style>\n",
              "      .ndarray_repr .ndarray_raw_data {\n",
              "        display: none;\n",
              "      }\n",
              "      .ndarray_repr.show_array .ndarray_raw_data {\n",
              "        display: block;\n",
              "      }\n",
              "      .ndarray_repr.show_array .ndarray_image_preview {\n",
              "        display: none;\n",
              "      }\n",
              "      </style>\n",
              "      <div id=\"id-ac0b38d3-4457-4c39-b4d2-6279deaec9fc\" class=\"ndarray_repr\"><pre>ndarray (64, 64) <button style=\"padding: 0 2px;\">show data</button></pre><img src=\"data:image/png;base64,iVBORw0KGgoAAAANSUhEUgAAAEAAAABACAAAAACPAi4CAAABBUlEQVR4nO2WwRLDIAhEwfH/f5keWlsRyGI5ZKaVUyPZJ+rWwEK1aEX9LwC6GeHpd2KH1wqY1dM2YFVgAqsqnfflnfDXowDufKIyhjIDgnrFpNWkn4dwvX6RsgLi/bJlT5luBhMxb8sA7OhVXe1b/YhW1D8BBT31nD52Ys/Pz+RRWLB+WGYdWEYhwKfsArRIvBspS+RCBXPcfyvfD0iewqWVsxFYOaE8Vj5WhnGsvPVdcChC1ClBcInDyoKXAa1c6vgbnCIDqBBeRkI7iZ2YOIuoP1B5N66diDvVoB03nWpEcJY+OxF26+EBsQNwCPCA9Y1kXscGWa400YqEwbj0R7AV/CXgAVsnUHCYrk53AAAAAElFTkSuQmCC\" class=\"ndarray_image_preview\" /><pre class=\"ndarray_raw_data\">array([[255, 255, 255, ..., 255, 255, 255],\n",
              "       [255, 255, 255, ..., 255, 255, 255],\n",
              "       [255, 255, 255, ..., 255, 255, 255],\n",
              "       ...,\n",
              "       [255, 255, 255, ..., 255, 255, 255],\n",
              "       [255, 255, 255, ..., 255, 255, 255],\n",
              "       [255, 255, 255, ..., 255, 255, 255]], dtype=uint8)</pre></div><script>\n",
              "      (() => {\n",
              "      const titles = ['show data', 'hide data'];\n",
              "      let index = 0\n",
              "      document.querySelector('#id-ac0b38d3-4457-4c39-b4d2-6279deaec9fc button').onclick = (e) => {\n",
              "        document.querySelector('#id-ac0b38d3-4457-4c39-b4d2-6279deaec9fc').classList.toggle('show_array');\n",
              "        index = (++index) % 2;\n",
              "        document.querySelector('#id-ac0b38d3-4457-4c39-b4d2-6279deaec9fc button').textContent = titles[index];\n",
              "        e.preventDefault();\n",
              "        e.stopPropagation();\n",
              "      }\n",
              "      })();\n",
              "    </script>"
            ]
          },
          "metadata": {},
          "execution_count": 21
        }
      ]
    },
    {
      "cell_type": "code",
      "source": [
        "# L\n",
        "img_gray_L = 255 - cv2.imread(os.path.join(image_directory, 'L.png'), cv2.IMREAD_UNCHANGED)[:, :, 3]\n",
        "img_gray_norm_L = img_gray_L / 255.0\n",
        "Lcpp = abs(img_gray_norm_L - 1)\n",
        "plt.imshow(Lcpp, cmap='gray', vmin=0, vmax=1)\n",
        "plt.title('Imagen Normalizada - L')\n",
        "plt.axis('off')\n",
        "plt.show()"
      ],
      "metadata": {
        "colab": {
          "base_uri": "https://localhost:8080/",
          "height": 428
        },
        "id": "dh9gBQV1iHJh",
        "outputId": "a7f0649f-03b3-4189-c8fa-9d3bbe33f572"
      },
      "execution_count": 28,
      "outputs": [
        {
          "output_type": "display_data",
          "data": {
            "text/plain": [
              "<Figure size 640x480 with 1 Axes>"
            ],
            "image/png": "[encoded data removed]"
          },
          "metadata": {}
        }
      ]
    },
    {
      "cell_type": "code",
      "source": [
        "image_vars['img_gray_HL']"
      ],
      "metadata": {
        "colab": {
          "base_uri": "https://localhost:8080/",
          "height": 105
        },
        "id": "FtOfPqg-eoBM",
        "outputId": "896ac5ed-f3b9-4e16-977d-2fa2d3ad4c91"
      },
      "execution_count": 22,
      "outputs": [
        {
          "output_type": "execute_result",
          "data": {
            "text/plain": [
              "array([[255, 255, 255, ..., 255, 255, 255],\n",
              "       [255, 255, 255, ..., 255, 255, 255],\n",
              "       [255, 255, 255, ..., 255, 255, 255],\n",
              "       ...,\n",
              "       [255, 255, 255, ..., 255, 255, 255],\n",
              "       [255, 255, 255, ..., 255, 255, 255],\n",
              "       [255, 255, 255, ..., 255, 255, 255]], dtype=uint8)"
            ],
            "text/html": [
              "<style>\n",
              "      .ndarray_repr .ndarray_raw_data {\n",
              "        display: none;\n",
              "      }\n",
              "      .ndarray_repr.show_array .ndarray_raw_data {\n",
              "        display: block;\n",
              "      }\n",
              "      .ndarray_repr.show_array .ndarray_image_preview {\n",
              "        display: none;\n",
              "      }\n",
              "      </style>\n",
              "      <div id=\"id-6484386b-8dce-413a-a0af-fe94404bd33a\" class=\"ndarray_repr\"><pre>ndarray (64, 64) <button style=\"padding: 0 2px;\">show data</button></pre><img src=\"data:image/png;base64,iVBORw0KGgoAAAANSUhEUgAAAEAAAABACAAAAACPAi4CAAABR0lEQVR4nO2XwW6EMAxE7aj//8vugZCYZDw2oFaVuj6sBISXGWcIrJq8q/by/g/gNwCq7wAqkhB+2IKOn2cAFZEs6pkFyyQwgIqYiHECAWjXz03UckAkxAAVsSMH1EQpB8xECDgFZGEgCo4OWjdxFzCnNXeiDrguIetjEqQBCU1gwNlBm8eRhEiBn5b2EQLWCVkfEQA9BGEfsYV1MDEBAKcBf0NsAiqACxeY2AF4ycIwbIB4G8HkMEhAAuzjCogFBH1cAEo3UdRHFqRdAjBxBfCNGJqIghTULqFdL/OHH0nwAE0FgD4uFizq4JCwmnCAyqtsNwGClNQiobkLlXdp78CcZ09iUibXsA5ATUAf6gY5BcmXhJcgc6jO4yLggIzVbv7+GzVGf+HTlTrEt2cC3FvPOuBJmRQ/cVjpXelr/f0/HB/A/wB8A/Z2XIJcRLaqAAAAAElFTkSuQmCC\" class=\"ndarray_image_preview\" /><pre class=\"ndarray_raw_data\">array([[255, 255, 255, ..., 255, 255, 255],\n",
              "       [255, 255, 255, ..., 255, 255, 255],\n",
              "       [255, 255, 255, ..., 255, 255, 255],\n",
              "       ...,\n",
              "       [255, 255, 255, ..., 255, 255, 255],\n",
              "       [255, 255, 255, ..., 255, 255, 255],\n",
              "       [255, 255, 255, ..., 255, 255, 255]], dtype=uint8)</pre></div><script>\n",
              "      (() => {\n",
              "      const titles = ['show data', 'hide data'];\n",
              "      let index = 0\n",
              "      document.querySelector('#id-6484386b-8dce-413a-a0af-fe94404bd33a button').onclick = (e) => {\n",
              "        document.querySelector('#id-6484386b-8dce-413a-a0af-fe94404bd33a').classList.toggle('show_array');\n",
              "        index = (++index) % 2;\n",
              "        document.querySelector('#id-6484386b-8dce-413a-a0af-fe94404bd33a button').textContent = titles[index];\n",
              "        e.preventDefault();\n",
              "        e.stopPropagation();\n",
              "      }\n",
              "      })();\n",
              "    </script>"
            ]
          },
          "metadata": {},
          "execution_count": 22
        }
      ]
    },
    {
      "cell_type": "code",
      "source": [
        "# HL\n",
        "img_gray_HL = 255 - cv2.imread(os.path.join(image_directory, 'HL.png'), cv2.IMREAD_UNCHANGED)[:, :, 3]\n",
        "img_gray_norm_HL = img_gray_HL / 255.0\n",
        "HLcpp = abs(img_gray_norm_HL - 1)\n",
        "plt.imshow(HLcpp, cmap='gray', vmin=0, vmax=1)\n",
        "plt.title('Imagen Normalizada - HL')\n",
        "plt.axis('off')\n",
        "plt.show()"
      ],
      "metadata": {
        "colab": {
          "base_uri": "https://localhost:8080/",
          "height": 428
        },
        "id": "g2NNXcPJht6p",
        "outputId": "7d48bf0c-43f3-4a63-c94d-0104418d25d2"
      },
      "execution_count": 29,
      "outputs": [
        {
          "output_type": "display_data",
          "data": {
            "text/plain": [
              "<Figure size 640x480 with 1 Axes>"
            ],
            "image/png": "[encoded data removed]"
          },
          "metadata": {}
        }
      ]
    },
    {
      "cell_type": "code",
      "source": [
        "# Directorio de imágenes\n",
        "image_directory = '/content/drive/My Drive/_data/_DWL'\n",
        "\n",
        "# Función para guardar la matriz en un archivo de texto\n",
        "def guardar_matriz_en_txt(matrix, nombre_variable, archivo_txt):\n",
        "    header = f\"const uint8_t {nombre_variable}[{matrix.shape[0]}*{matrix.shape[1]}] = {{\\n\"\n",
        "    footer = \"};\\n\"\n",
        "    lines = [\"    \" + \", \".join(map(lambda x: str(int(x)), row)) + \",\" for row in matrix]\n",
        "    content = header + \"\\n\".join(lines) + \"\\n\" + footer\n",
        "    with open(archivo_txt, 'w') as f:\n",
        "        f.write(content)\n",
        "    print(f\"Matriz guardada en formato C en {archivo_txt}\")"
      ],
      "metadata": {
        "id": "29DDz-_Hjozp"
      },
      "execution_count": 30,
      "outputs": []
    },
    {
      "cell_type": "code",
      "source": [
        "guardar_matriz_en_txt(DDcpp, 'DD', os.path.join(image_directory, 'DDcpp.txt'))"
      ],
      "metadata": {
        "colab": {
          "base_uri": "https://localhost:8080/"
        },
        "id": "2VyQ9RpRjtcD",
        "outputId": "2a609d91-7fa9-41ad-94f5-36119118c9f1"
      },
      "execution_count": 33,
      "outputs": [
        {
          "output_type": "stream",
          "name": "stdout",
          "text": [
            "Matriz guardada en formato C en /content/drive/My Drive/_data/_DWL/DDcpp.txt\n"
          ]
        }
      ]
    },
    {
      "cell_type": "code",
      "source": [
        "guardar_matriz_en_txt(DDcpp_inverted, 'DD_inverted', os.path.join(image_directory, 'DDcpp_inverted.txt'))"
      ],
      "metadata": {
        "colab": {
          "base_uri": "https://localhost:8080/"
        },
        "id": "P4CKAE-7kV_x",
        "outputId": "3a1586ff-c96f-49cf-9b5b-5b709fc99a6e"
      },
      "execution_count": 34,
      "outputs": [
        {
          "output_type": "stream",
          "name": "stdout",
          "text": [
            "Matriz guardada en formato C en /content/drive/My Drive/_data/_DWL/DDcpp_inverted.txt\n"
          ]
        }
      ]
    },
    {
      "cell_type": "code",
      "source": [
        "guardar_matriz_en_txt(FLcpp, 'FL', os.path.join(image_directory, 'FLcpp.txt'))"
      ],
      "metadata": {
        "colab": {
          "base_uri": "https://localhost:8080/"
        },
        "id": "nST7N7RmkXhU",
        "outputId": "60a507be-d668-4849-e7a9-1573c4d2b07a"
      },
      "execution_count": 35,
      "outputs": [
        {
          "output_type": "stream",
          "name": "stdout",
          "text": [
            "Matriz guardada en formato C en /content/drive/My Drive/_data/_DWL/FLcpp.txt\n"
          ]
        }
      ]
    },
    {
      "cell_type": "code",
      "source": [
        "guardar_matriz_en_txt(HBcpp, 'HB', os.path.join(image_directory, 'HBcpp.txt'))"
      ],
      "metadata": {
        "colab": {
          "base_uri": "https://localhost:8080/"
        },
        "id": "nD9lj6mzkY-i",
        "outputId": "32523e7e-f3a2-4e16-81e5-8a082471df5c"
      },
      "execution_count": 36,
      "outputs": [
        {
          "output_type": "stream",
          "name": "stdout",
          "text": [
            "Matriz guardada en formato C en /content/drive/My Drive/_data/_DWL/HBcpp.txt\n"
          ]
        }
      ]
    },
    {
      "cell_type": "code",
      "source": [
        "guardar_matriz_en_txt(Lcpp, 'L', os.path.join(image_directory, 'Lcpp.txt'))"
      ],
      "metadata": {
        "colab": {
          "base_uri": "https://localhost:8080/"
        },
        "id": "oixly7hmkanK",
        "outputId": "8846f5dc-1e0f-4112-866c-325a0e8667dc"
      },
      "execution_count": 37,
      "outputs": [
        {
          "output_type": "stream",
          "name": "stdout",
          "text": [
            "Matriz guardada en formato C en /content/drive/My Drive/_data/_DWL/Lcpp.txt\n"
          ]
        }
      ]
    },
    {
      "cell_type": "code",
      "source": [
        "guardar_matriz_en_txt(FogLcpp, 'FogL', os.path.join(image_directory, 'FogLcpp.txt'))"
      ],
      "metadata": {
        "colab": {
          "base_uri": "https://localhost:8080/"
        },
        "id": "QoSmOL36kb4n",
        "outputId": "2cab38ba-a067-4858-d6b2-6937bcd991c1"
      },
      "execution_count": 38,
      "outputs": [
        {
          "output_type": "stream",
          "name": "stdout",
          "text": [
            "Matriz guardada en formato C en /content/drive/My Drive/_data/_DWL/FogLcpp.txt\n"
          ]
        }
      ]
    },
    {
      "cell_type": "code",
      "source": [
        "guardar_matriz_en_txt(HLcpp, 'HL', os.path.join(image_directory, 'HLcpp.txt'))"
      ],
      "metadata": {
        "colab": {
          "base_uri": "https://localhost:8080/"
        },
        "id": "IJSEdcvmkdeo",
        "outputId": "d969beb4-2a43-4b8b-b2ed-5cdf742d3583"
      },
      "execution_count": 39,
      "outputs": [
        {
          "output_type": "stream",
          "name": "stdout",
          "text": [
            "Matriz guardada en formato C en /content/drive/My Drive/_data/_DWL/HLcpp.txt\n"
          ]
        }
      ]
    }
  ]
}