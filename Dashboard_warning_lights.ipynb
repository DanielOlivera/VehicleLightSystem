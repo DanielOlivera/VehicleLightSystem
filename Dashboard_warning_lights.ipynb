{
  "nbformat": 4,
  "nbformat_minor": 0,
  "metadata": {
    "colab": {
      "provenance": [],
      "authorship_tag": "ABX9TyNyOqi5Ec5bRv7iBgZYcRIk",
      "include_colab_link": true
    },
    "kernelspec": {
      "name": "python3",
      "display_name": "Python 3"
    },
    "language_info": {
      "name": "python"
    }
  },
  "cells": [
    {
      "cell_type": "markdown",
      "metadata": {
        "id": "view-in-github",
        "colab_type": "text"
      },
      "source": [
        "<a href=\"https://colab.research.google.com/github/DanielOlivera/VehicleLightSystem/blob/main/Dashboard_warning_lights.ipynb\" target=\"_parent\"><img src=\"https://colab.research.google.com/assets/colab-badge.svg\" alt=\"Open In Colab\"/></a>"
      ]
    },
    {
      "cell_type": "code",
      "execution_count": 1,
      "metadata": {
        "id": "rR9z7bO8ewGX"
      },
      "outputs": [],
      "source": [
        "from google.colab import drive\n",
        "import os\n",
        "import cv2\n",
        "import numpy as np\n",
        "import matplotlib.pyplot as plt\n",
        "import matplotlib.image as mpimg"
      ]
    },
    {
      "cell_type": "code",
      "source": [
        "drive.mount('/content/drive')"
      ],
      "metadata": {
        "colab": {
          "base_uri": "https://localhost:8080/"
        },
        "id": "sClDn9puf68C",
        "outputId": "28f93125-3fdf-4fd6-df48-038b7adb4a34"
      },
      "execution_count": 2,
      "outputs": [
        {
          "output_type": "stream",
          "name": "stdout",
          "text": [
            "Drive already mounted at /content/drive; to attempt to forcibly remount, call drive.mount(\"/content/drive\", force_remount=True).\n"
          ]
        }
      ]
    },
    {
      "cell_type": "code",
      "source": [
        "image_directory  = '/content/drive/My Drive/_data/_DWL'"
      ],
      "metadata": {
        "id": "VPljZhR6g1us"
      },
      "execution_count": 3,
      "outputs": []
    },
    {
      "cell_type": "code",
      "source": [
        "'''# Visualizar cada imagen en la carpeta\n",
        "for image_file in image_files:\n",
        "    image_path = os.path.join(image_folder_path, image_file)\n",
        "    try:\n",
        "        # Leer la imagen en su formato original\n",
        "        img = mpimg.imread(image_path)\n",
        "\n",
        "        # Mostrar la imagen\n",
        "        plt.imshow(img, cmap='gray')\n",
        "        plt.axis('off')  # No mostrar los ejes\n",
        "        plt.show()\n",
        "    except Exception as e:\n",
        "        print(f\"Error processing {image_file}: {e}\")'''"
      ],
      "metadata": {
        "colab": {
          "base_uri": "https://localhost:8080/",
          "height": 70
        },
        "id": "VgRXMrOy1_ia",
        "outputId": "cfa82fd5-8f3a-4a45-94d8-650f2da2388b"
      },
      "execution_count": 4,
      "outputs": [
        {
          "output_type": "execute_result",
          "data": {
            "text/plain": [
              "'# Visualizar cada imagen en la carpeta\\nfor image_file in image_files:\\n    image_path = os.path.join(image_folder_path, image_file)\\n    try:\\n        # Leer la imagen en su formato original\\n        img = mpimg.imread(image_path)\\n\\n        # Mostrar la imagen\\n        plt.imshow(img, cmap=\\'gray\\')\\n        plt.axis(\\'off\\')  # No mostrar los ejes\\n        plt.show()\\n    except Exception as e:\\n        print(f\"Error processing {image_file}: {e}\")'"
            ],
            "application/vnd.google.colaboratory.intrinsic+json": {
              "type": "string"
            }
          },
          "metadata": {},
          "execution_count": 4
        }
      ]
    },
    {
      "cell_type": "code",
      "source": [
        "'''image_file = 'DD.png'\n",
        "\n",
        "# Ruta completa a la imagen\n",
        "\n",
        "image_path = os.path.join(image_folder_path, image_file)\n",
        "# Leer la imagen\n",
        "img = mpimg.imread(image_path)\n",
        "\n",
        "# Invertir la imagen horizontalmente\n",
        "img_inverted = np.fliplr(img)\n",
        "\n",
        "# Convertir la imagen invertida a uint8 si no lo es\n",
        "if img_inverted.dtype != np.uint8:\n",
        "    img_inverted = (img_inverted * 255).astype(np.uint8)\n",
        "\n",
        "# Mostrar la imagen original\n",
        "plt.imshow(img, cmap='gray')\n",
        "plt.title('Original Image')\n",
        "plt.axis('off')\n",
        "plt.show()\n",
        "\n",
        "# Mostrar la imagen invertida\n",
        "plt.imshow(img_inverted, cmap='gray')\n",
        "plt.title('Inverted Image')\n",
        "plt.axis('off')\n",
        "plt.show()\n",
        "\n",
        "# Guardar la imagen invertida\n",
        "import imageio\n",
        "inverted_image_path = os.path.join(image_folder_path, 'DD_inverted.png')\n",
        "imageio.imwrite(inverted_image_path, img_inverted)\n",
        "\n",
        "print(f\"La imagen invertida ha sido guardada en: {inverted_image_path}\")\n",
        "\n",
        "# Listar las imágenes en la carpeta\n",
        "image = [f for f in os.listdir(image_folder_path) if f.endswith('.png')]\n",
        "print(image)'''"
      ],
      "metadata": {
        "colab": {
          "base_uri": "https://localhost:8080/",
          "height": 123
        },
        "id": "7ilfstmJ3Hgz",
        "outputId": "099f18f4-a4ec-46ae-c02c-456e8e6253f4"
      },
      "execution_count": 5,
      "outputs": [
        {
          "output_type": "execute_result",
          "data": {
            "text/plain": [
              "'image_file = \\'DD.png\\'\\n\\n# Ruta completa a la imagen\\n\\nimage_path = os.path.join(image_folder_path, image_file)\\n# Leer la imagen\\nimg = mpimg.imread(image_path)\\n\\n# Invertir la imagen horizontalmente\\nimg_inverted = np.fliplr(img)\\n\\n# Convertir la imagen invertida a uint8 si no lo es\\nif img_inverted.dtype != np.uint8:\\n    img_inverted = (img_inverted * 255).astype(np.uint8)\\n\\n# Mostrar la imagen original\\nplt.imshow(img, cmap=\\'gray\\')\\nplt.title(\\'Original Image\\')\\nplt.axis(\\'off\\')\\nplt.show()\\n\\n# Mostrar la imagen invertida\\nplt.imshow(img_inverted, cmap=\\'gray\\')\\nplt.title(\\'Inverted Image\\')\\nplt.axis(\\'off\\')\\nplt.show()\\n\\n# Guardar la imagen invertida\\nimport imageio\\ninverted_image_path = os.path.join(image_folder_path, \\'DD_inverted.png\\')\\nimageio.imwrite(inverted_image_path, img_inverted)\\n\\nprint(f\"La imagen invertida ha sido guardada en: {inverted_image_path}\")\\n\\n# Listar las imágenes en la carpeta\\nimage = [f for f in os.listdir(image_folder_path) if f.endswith(\\'.png\\')]\\nprint(image)'"
            ],
            "application/vnd.google.colaboratory.intrinsic+json": {
              "type": "string"
            }
          },
          "metadata": {},
          "execution_count": 5
        }
      ]
    },
    {
      "cell_type": "code",
      "source": [
        "# Listar todas las imágenes en el directorio\n",
        "image_files = [f for f in os.listdir(image_directory) if f.endswith('.png')]\n",
        "print(image_files)"
      ],
      "metadata": {
        "colab": {
          "base_uri": "https://localhost:8080/"
        },
        "id": "39YcLkHc19LQ",
        "outputId": "a86bb031-f1a3-4315-ed44-61ddf89380e2"
      },
      "execution_count": 6,
      "outputs": [
        {
          "output_type": "stream",
          "name": "stdout",
          "text": [
            "['DD.png', 'HL.png', 'DD_inverted.png']\n"
          ]
        }
      ]
    },
    {
      "cell_type": "code",
      "source": [
        "# Cargar la primera imagen usando OpenCV y convertirla a un array de numpy\n",
        "first_image_path = os.path.join(image_directory, image_files[0])\n",
        "DD = mpimg.imread(first_image_path)\n",
        "\n",
        "# Mostrar la forma de la imagen\n",
        "print(DD.shape)\n",
        "type(DD)"
      ],
      "metadata": {
        "colab": {
          "base_uri": "https://localhost:8080/"
        },
        "id": "gzPdMva_1_xe",
        "outputId": "b00fd706-d672-441f-c93a-14f9fe9983ba"
      },
      "execution_count": 7,
      "outputs": [
        {
          "output_type": "stream",
          "name": "stdout",
          "text": [
            "(64, 64, 4)\n"
          ]
        },
        {
          "output_type": "execute_result",
          "data": {
            "text/plain": [
              "numpy.ndarray"
            ]
          },
          "metadata": {},
          "execution_count": 7
        }
      ]
    },
    {
      "cell_type": "code",
      "source": [
        "DD[:5]"
      ],
      "metadata": {
        "colab": {
          "base_uri": "https://localhost:8080/"
        },
        "collapsed": true,
        "id": "_NSQOE9FpJfn",
        "outputId": "72a8e343-09b2-4e40-9ea7-46f4a1aaa934"
      },
      "execution_count": 8,
      "outputs": [
        {
          "output_type": "execute_result",
          "data": {
            "text/plain": [
              "array([[[0., 0., 0., 0.],\n",
              "        [0., 0., 0., 0.],\n",
              "        [0., 0., 0., 0.],\n",
              "        ...,\n",
              "        [0., 0., 0., 0.],\n",
              "        [0., 0., 0., 0.],\n",
              "        [0., 0., 0., 0.]],\n",
              "\n",
              "       [[0., 0., 0., 0.],\n",
              "        [0., 0., 0., 0.],\n",
              "        [0., 0., 0., 0.],\n",
              "        ...,\n",
              "        [0., 0., 0., 0.],\n",
              "        [0., 0., 0., 0.],\n",
              "        [0., 0., 0., 0.]],\n",
              "\n",
              "       [[0., 0., 0., 0.],\n",
              "        [0., 0., 0., 0.],\n",
              "        [0., 0., 0., 0.],\n",
              "        ...,\n",
              "        [0., 0., 0., 0.],\n",
              "        [0., 0., 0., 0.],\n",
              "        [0., 0., 0., 0.]],\n",
              "\n",
              "       [[0., 0., 0., 0.],\n",
              "        [0., 0., 0., 0.],\n",
              "        [0., 0., 0., 0.],\n",
              "        ...,\n",
              "        [0., 0., 0., 0.],\n",
              "        [0., 0., 0., 0.],\n",
              "        [0., 0., 0., 0.]],\n",
              "\n",
              "       [[0., 0., 0., 0.],\n",
              "        [0., 0., 0., 0.],\n",
              "        [0., 0., 0., 0.],\n",
              "        ...,\n",
              "        [0., 0., 0., 0.],\n",
              "        [0., 0., 0., 0.],\n",
              "        [0., 0., 0., 0.]]], dtype=float32)"
            ]
          },
          "metadata": {},
          "execution_count": 8
        }
      ]
    },
    {
      "cell_type": "code",
      "source": [
        "# Mostrar la primera imagen cargada\n",
        "plt.imshow(DD)\n",
        "plt.axis('off')\n",
        "plt.show()"
      ],
      "metadata": {
        "colab": {
          "base_uri": "https://localhost:8080/",
          "height": 406
        },
        "id": "m7lePjBM2DaC",
        "outputId": "a21c6464-10ad-4460-97d7-cda0ff0ade5c"
      },
      "execution_count": 9,
      "outputs": [
        {
          "output_type": "display_data",
          "data": {
            "text/plain": [
              "<Figure size 640x480 with 1 Axes>"
            ],
            "image/png": "[encoded data removed]"
          },
          "metadata": {}
        }
      ]
    },
    {
      "cell_type": "code",
      "source": [
        "txt_file_path = '/content/drive/My Drive/_data/_DWL/DD.txt'"
      ],
      "metadata": {
        "id": "6JRcv63Sj2D5"
      },
      "execution_count": 10,
      "outputs": []
    },
    {
      "cell_type": "code",
      "source": [
        "# Guardar las primeras 5 filas en un archivo de texto\n",
        "first_5_rows = DD[:5]\n",
        "\n",
        "# Guardar las primeras 5 filas en un archivo de texto\n",
        "with open(txt_file_path, 'w') as f:\n",
        "    for row in first_5_rows:\n",
        "        np.savetxt(f, row, fmt='%d', delimiter=',', newline=' ')\n",
        "        f.write('\\n')\n",
        "\n",
        "print(f\"Primeras 5 filas guardadas en {txt_file_path}\")"
      ],
      "metadata": {
        "colab": {
          "base_uri": "https://localhost:8080/"
        },
        "id": "4C8-ijt6oa9T",
        "outputId": "fe087585-190f-49cf-f3b1-9312b25e9ce3"
      },
      "execution_count": 11,
      "outputs": [
        {
          "output_type": "stream",
          "name": "stdout",
          "text": [
            "Primeras 5 filas guardadas en /content/drive/My Drive/_data/_DWL/DD.txt\n"
          ]
        }
      ]
    },
    {
      "cell_type": "code",
      "source": [
        "image_filename = 'DD.png'\n",
        "image_path = os.path.join(image_directory, image_filename)"
      ],
      "metadata": {
        "id": "puOOBYXnyCif"
      },
      "execution_count": 12,
      "outputs": []
    },
    {
      "cell_type": "code",
      "source": [
        "img = cv2.imread(image_path, cv2.IMREAD_UNCHANGED)\n",
        "img_gray = 255 - img[:, :, 3]\n",
        "\n",
        "plt.imshow(img_gray, cmap='gray', vmin=0, vmax=255)\n",
        "plt.axis('off')\n",
        "plt.show()"
      ],
      "metadata": {
        "colab": {
          "base_uri": "https://localhost:8080/",
          "height": 406
        },
        "id": "wik-wLkIwwZI",
        "outputId": "8981c0eb-efbb-4c7a-c52a-260e5b4578fb"
      },
      "execution_count": 13,
      "outputs": [
        {
          "output_type": "display_data",
          "data": {
            "text/plain": [
              "<Figure size 640x480 with 1 Axes>"
            ],
            "image/png": "[encoded data removed]"
          },
          "metadata": {}
        }
      ]
    },
    {
      "cell_type": "code",
      "source": [
        "img_gray"
      ],
      "metadata": {
        "colab": {
          "base_uri": "https://localhost:8080/",
          "height": 158
        },
        "id": "WRqiBJupgIOK",
        "outputId": "b6aa37b1-8346-4c11-bcef-e7a29748bc45"
      },
      "execution_count": 14,
      "outputs": [
        {
          "output_type": "execute_result",
          "data": {
            "text/plain": [
              "array([[255, 255, 255, ..., 255, 255, 255],\n",
              "       [255, 255, 255, ..., 255, 255, 255],\n",
              "       [255, 255, 255, ..., 255, 255, 255],\n",
              "       ...,\n",
              "       [255, 255, 255, ..., 255, 255, 255],\n",
              "       [255, 255, 255, ..., 255, 255, 255],\n",
              "       [255, 255, 255, ..., 255, 255, 255]], dtype=uint8)"
            ],
            "text/html": [
              "<style>\n",
              "      .ndarray_repr .ndarray_raw_data {\n",
              "        display: none;\n",
              "      }\n",
              "      .ndarray_repr.show_array .ndarray_raw_data {\n",
              "        display: block;\n",
              "      }\n",
              "      .ndarray_repr.show_array .ndarray_image_preview {\n",
              "        display: none;\n",
              "      }\n",
              "      </style>\n",
              "      <div id=\"id-fdae4d0f-f990-4013-843d-b5636309e890\" class=\"ndarray_repr\"><pre>ndarray (64, 64) <button style=\"padding: 0 2px;\">show data</button></pre><img src=\"data:image/png;base64,iVBORw0KGgoAAAANSUhEUgAAAEAAAABACAAAAACPAi4CAAAA/klEQVR4nNXXyxaEIAwD0DL//8/MwlF5tCVJV9OtekFo8Ni6pdXscMMnv2xmrQocBADIBQRIBQjIBAxIBBCIBRQIBRiIBBwIBALwBQZwBQrwBA5whEPW9lrTTc5gH5EGVoEHFkEAZkEBJkECRkEDBkEEXkEFHkEGbkEHfkIBuIQKYK0K8Fne6/Dt/ofqtUW0XtyFXtzGbjWgWw24WkAHfi0kA3cLqsDTwiLwRkADhghJwBhBBZgiLADzEcADyxFCA+sR1I4/HPnz7Az24TjAmS4FeK/LAO5yEYC/3DgQbBcMRNuNAmG7gEDcbhiQtCsEZO2OAGlcACCP2xk4xPULYLQkcMWb9dcAAAAASUVORK5CYII=\" class=\"ndarray_image_preview\" /><pre class=\"ndarray_raw_data\">array([[255, 255, 255, ..., 255, 255, 255],\n",
              "       [255, 255, 255, ..., 255, 255, 255],\n",
              "       [255, 255, 255, ..., 255, 255, 255],\n",
              "       ...,\n",
              "       [255, 255, 255, ..., 255, 255, 255],\n",
              "       [255, 255, 255, ..., 255, 255, 255],\n",
              "       [255, 255, 255, ..., 255, 255, 255]], dtype=uint8)</pre></div><script>\n",
              "      (() => {\n",
              "      const titles = ['show data', 'hide data'];\n",
              "      let index = 0\n",
              "      document.querySelector('#id-fdae4d0f-f990-4013-843d-b5636309e890 button').onclick = (e) => {\n",
              "        document.querySelector('#id-fdae4d0f-f990-4013-843d-b5636309e890').classList.toggle('show_array');\n",
              "        index = (++index) % 2;\n",
              "        document.querySelector('#id-fdae4d0f-f990-4013-843d-b5636309e890 button').textContent = titles[index];\n",
              "        e.preventDefault();\n",
              "        e.stopPropagation();\n",
              "      }\n",
              "      })();\n",
              "    </script>"
            ]
          },
          "metadata": {},
          "execution_count": 14
        }
      ]
    },
    {
      "cell_type": "code",
      "source": [
        "img_gray_norm = img_gray/255.0\n",
        "img_gray_norm"
      ],
      "metadata": {
        "colab": {
          "base_uri": "https://localhost:8080/"
        },
        "id": "YwJcykuCyPXR",
        "outputId": "c88709c7-279f-4223-f144-239a5fc6b145"
      },
      "execution_count": 15,
      "outputs": [
        {
          "output_type": "execute_result",
          "data": {
            "text/plain": [
              "array([[1., 1., 1., ..., 1., 1., 1.],\n",
              "       [1., 1., 1., ..., 1., 1., 1.],\n",
              "       [1., 1., 1., ..., 1., 1., 1.],\n",
              "       ...,\n",
              "       [1., 1., 1., ..., 1., 1., 1.],\n",
              "       [1., 1., 1., ..., 1., 1., 1.],\n",
              "       [1., 1., 1., ..., 1., 1., 1.]])"
            ]
          },
          "metadata": {},
          "execution_count": 15
        }
      ]
    },
    {
      "cell_type": "code",
      "source": [
        "# Mostrar la imagen original y la imagen normalizada\n",
        "fig, axes = plt.subplots(1, 2, figsize=(10, 5))\n",
        "axes[0].imshow(img_gray, cmap='gray', vmin=0, vmax=255)\n",
        "axes[0].set_title('Imagen Original')\n",
        "axes[0].axis('off')\n",
        "\n",
        "axes[1].imshow(img_gray_norm, cmap='gray', vmin=0, vmax=1)\n",
        "axes[1].set_title('Imagen Normalizada')\n",
        "axes[1].axis('off')\n",
        "\n",
        "plt.show()"
      ],
      "metadata": {
        "colab": {
          "base_uri": "https://localhost:8080/",
          "height": 411
        },
        "id": "ObY1Csj_f9js",
        "outputId": "b43c2e07-d693-41e6-a499-856bbd254d5a"
      },
      "execution_count": 16,
      "outputs": [
        {
          "output_type": "display_data",
          "data": {
            "text/plain": [
              "<Figure size 1000x500 with 2 Axes>"
            ],
            "image/png": "[encoded data removed]"
          },
          "metadata": {}
        }
      ]
    },
    {
      "cell_type": "code",
      "source": [
        "DDcpp = img_gray_norm\n",
        "DDcpp = abs(DDcpp-1)\n",
        "plt.imshow(DDcpp, cmap='gray', vmin=0, vmax=1)\n",
        "plt.title('Imagen Normalizada')\n",
        "plt.axis('off')\n",
        "plt.show()"
      ],
      "metadata": {
        "colab": {
          "base_uri": "https://localhost:8080/",
          "height": 428
        },
        "id": "OLUYNevJgMXF",
        "outputId": "eaec98f1-db97-4c74-d9b1-e57f12f21bb4"
      },
      "execution_count": 17,
      "outputs": [
        {
          "output_type": "display_data",
          "data": {
            "text/plain": [
              "<Figure size 640x480 with 1 Axes>"
            ],
            "image/png": "[encoded data removed]"
          },
          "metadata": {}
        }
      ]
    },
    {
      "cell_type": "code",
      "source": [
        "txt_file_path = '/content/drive/My Drive/_data/_DWL/DDcpp.txt'\n",
        "np.savetxt(txt_file_path, DDcpp, fmt='%d')\n",
        "print(f\"Matriz guardada en {txt_file_path}\")"
      ],
      "metadata": {
        "colab": {
          "base_uri": "https://localhost:8080/"
        },
        "id": "Hd-DPZMFjDkr",
        "outputId": "14680bfa-cf0f-425a-d724-3c191eeb8904"
      },
      "execution_count": 18,
      "outputs": [
        {
          "output_type": "stream",
          "name": "stdout",
          "text": [
            "Matriz guardada en /content/drive/My Drive/_data/_DWL/DDcpp.txt\n"
          ]
        }
      ]
    },
    {
      "cell_type": "code",
      "source": [
        "# Ruta del archivo de salida\n",
        "txt_file_path = '/content/drive/My Drive/_data/_DWL/DDcpp.txt'\n",
        "\n",
        "# Formatear la matriz como un arreglo C\n",
        "header = \"const uint8_t DD[{}*{}] = {{\\n\".format(DDcpp.shape[0], DDcpp.shape[1])\n",
        "footer = \"};\\n\"\n",
        "\n",
        "# Convertir la matriz a una lista de cadenas, una por fila\n",
        "lines = []\n",
        "for row in DDcpp:\n",
        "    lines.append(\"    \" + \", \".join(map(lambda x: str(int(x)), row)) + \",\")\n",
        "\n",
        "# Juntar todo en una sola cadena\n",
        "content = header + \"\\n\".join(lines) + \"\\n\" + footer\n",
        "\n",
        "# Guardar el contenido en un archivo de texto\n",
        "with open(txt_file_path, 'w') as f:\n",
        "    f.write(content)\n",
        "\n",
        "print(f\"Matriz guardada en formato C en {txt_file_path}\")"
      ],
      "metadata": {
        "colab": {
          "base_uri": "https://localhost:8080/"
        },
        "id": "qAlBDFL1k4rc",
        "outputId": "fa6e00fe-45e5-4bdc-9d3e-1c283ca61077"
      },
      "execution_count": 20,
      "outputs": [
        {
          "output_type": "stream",
          "name": "stdout",
          "text": [
            "Matriz guardada en formato C en /content/drive/My Drive/_data/_DWL/DDcpp.txt\n"
          ]
        }
      ]
    }
  ]
}